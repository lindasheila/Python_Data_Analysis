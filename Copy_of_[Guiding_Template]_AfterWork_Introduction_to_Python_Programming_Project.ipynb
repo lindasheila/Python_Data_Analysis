{
  "nbformat": 4,
  "nbformat_minor": 0,
  "metadata": {
    "colab": {
      "provenance": [],
      "toc_visible": true,
      "include_colab_link": true
    },
    "kernelspec": {
      "name": "python3",
      "display_name": "Python 3"
    }
  },
  "cells": [
    {
      "cell_type": "markdown",
      "metadata": {
        "id": "view-in-github",
        "colab_type": "text"
      },
      "source": [
        "<a href=\"https://colab.research.google.com/github/lindasheila/Python_Data_Analysis/blob/main/Copy_of_%5BGuiding_Template%5D_AfterWork_Introduction_to_Python_Programming_Project.ipynb\" target=\"_parent\"><img src=\"https://colab.research.google.com/assets/colab-badge.svg\" alt=\"Open In Colab\"/></a>"
      ]
    },
    {
      "cell_type": "markdown",
      "metadata": {
        "id": "WAJeH2M78RA9"
      },
      "source": [
        "# Guiding Template: Introduction to Python Programming: Project"
      ]
    },
    {
      "cell_type": "markdown",
      "metadata": {
        "id": "TlR8s9608XeD"
      },
      "source": [
        "**Problem Statement**\n",
        "\n",
        "ShippingtoMali, a shipping company, provides shipping to Mali for items bought on Amazon at a rate of `$4` for the first item and `$2` for each subsequent item with each of those items is also subject to import 10% tax. During this time, they also have a $10 discount for orders worth above `$500`.\n",
        "\n",
        "Write a python program that prints out how much one would spend for both purchase and shipping of the given items from the given data that is stored in the lists provided.\n",
        "\n",
        "**Notes**\n",
        "\n",
        "We will write two functions that will help provide a solution to this problem.\n",
        "\n",
        "* One function will iterate over the price list applying the respective tax and appending the result to the total_cost list.\n",
        "\n",
        "* The other function will take the number of items in an order as its only parameter then return the cost of shipping the function's result. This function would only display the shipping charge."
      ]
    },
    {
      "cell_type": "markdown",
      "metadata": {
        "id": "y9P0zA02TpnR"
      },
      "source": [
        "### Our Solution"
      ]
    },
    {
      "cell_type": "code",
      "metadata": {
        "id": "O2Q7VRSR8JhZ"
      },
      "source": [
        "# Defining our lists\n",
        "# ---\n",
        "#\n",
        "orders = ['item 1', 'item 2', 'item 3', 'item 4', 'item 5', 'item 6', 'item 7']\n",
        "price = [120, 32, 99, 49, 99, 75, 30.99]\n",
        "total_cost = []"
      ],
      "execution_count": 4,
      "outputs": []
    },
    {
      "cell_type": "code",
      "metadata": {
        "id": "sxBGd87jRMFM"
      },
      "source": [
        "# Step 1: Run this cell\n",
        "# ---\n",
        "# We create a function to determine the total cost of each item\n",
        "# and store the result in the total_cost list.\n",
        "# ---\n",
        "#\n",
        "total_cost=[]\n",
        "def determine_total_cost():\n",
        "  for x in price:\n",
        "    total_cost.append(x * 1.10)\n",
        "    ## add the returning function\n",
        "  return sum(total_cost)"
      ],
      "execution_count": 5,
      "outputs": []
    },
    {
      "cell_type": "code",
      "metadata": {
        "id": "zX8BJrvWRNvK"
      },
      "source": [
        "# Step 2: Run this cell\n",
        "# ---\n",
        "# Let's execute our determine_total_cost function by calling it\n",
        "# ---\n",
        "#\n",
        "\n",
        "#print(determine_total_cost())"
      ],
      "execution_count": 6,
      "outputs": []
    },
    {
      "cell_type": "code",
      "metadata": {
        "id": "DGdyWum5RP8j",
        "colab": {
          "base_uri": "https://localhost:8080/"
        },
        "outputId": "02c634f2-30cd-4df1-ea54-d9b56028b348"
      },
      "source": [
        "# Step 3\n",
        "# ---\n",
        "# Create a function to determine the total cost of shipping\n",
        "# ---\n",
        "# Function Parameter: no_items\n",
        "# ---\n",
        "#YOUR CODE GOES HERE\n",
        "\n",
        "\n",
        "def totalshippingcost(no_items):\n",
        "\n",
        "  if no_items ==0:\n",
        "    return 0\n",
        "  total1=4\n",
        "\n",
        "  for x in range(len(orders)):\n",
        "      #print(x)\n",
        "      if x==0:\n",
        "        continue\n",
        "      else:\n",
        "\n",
        "          total1=total1+2\n",
        "\n",
        "  return total1\n",
        "\n",
        "print(totalshippingcost(len(orders)))\n",
        "\n",
        "\n",
        "# without a for loop\n",
        "'''\n",
        "def totalshippingcost(no_items):\n",
        "    if no_items == 0:\n",
        "        return 0\n",
        "    return 4 + (no_items - 1) * 2\n",
        "\n",
        "print(totalshippingcost(len(orders)))\n",
        "'''\n"
      ],
      "execution_count": 12,
      "outputs": [
        {
          "output_type": "stream",
          "name": "stdout",
          "text": [
            "16\n"
          ]
        },
        {
          "output_type": "execute_result",
          "data": {
            "text/plain": [
              "0"
            ]
          },
          "metadata": {},
          "execution_count": 12
        }
      ]
    },
    {
      "cell_type": "code",
      "metadata": {
        "id": "A65O_zFnRStx",
        "colab": {
          "base_uri": "https://localhost:8080/"
        },
        "outputId": "2708432e-ab0d-420d-c63c-3462b3ff6390"
      },
      "source": [
        "# Step 4\n",
        "# ---\n",
        "# Calculate the final total cost by summing our shipping and total cost.\n",
        "# ---\n",
        "# Hint: use sum() and len() function\n",
        "# ---\n",
        "#\n",
        "#total_cost = YOUR CODE GOES HERE + shipping_cost(len(orders))\n",
        "\n",
        "\n",
        "finalTotalcost = determine_total_cost() +totalshippingcost(len(orders))\n",
        "print(finalTotalcost)"
      ],
      "execution_count": 9,
      "outputs": [
        {
          "output_type": "stream",
          "name": "stdout",
          "text": [
            "571.489\n"
          ]
        }
      ]
    },
    {
      "cell_type": "code",
      "metadata": {
        "id": "2tlt3eRqRUhZ",
        "colab": {
          "base_uri": "https://localhost:8080/"
        },
        "outputId": "1cb909ea-959e-4916-936f-c9ee964c122b"
      },
      "source": [
        "# Step 5\n",
        "# ---\n",
        "# Apply a discount through the use of an if statement\n",
        "# ---\n",
        "#\n",
        "#if total_cost > YOUR CODE GOES HERE :\n",
        " # total_cost = total_cost - YOUR CODE GOES HERE\n",
        "\n",
        "if finalTotalcost>500:\n",
        "    ClientPay=finalTotalcost-10\n",
        "else:\n",
        "    ClientPay = finalTotalcost\n",
        "print(ClientPay)"
      ],
      "execution_count": 10,
      "outputs": [
        {
          "output_type": "stream",
          "name": "stdout",
          "text": [
            "561.489\n"
          ]
        }
      ]
    },
    {
      "cell_type": "code",
      "metadata": {
        "id": "-sNIJ2anSQ6y",
        "colab": {
          "base_uri": "https://localhost:8080/"
        },
        "outputId": "9b344fe8-075f-4121-95e7-ccb908bee8b5"
      },
      "source": [
        "# Step 6\n",
        "# ---\n",
        "# Print out the total cost\n",
        "# ---\n",
        "#\n",
        "print(\"Total cost: USD\", ClientPay)"
      ],
      "execution_count": 11,
      "outputs": [
        {
          "output_type": "stream",
          "name": "stdout",
          "text": [
            "Total cost: USD 561.489\n"
          ]
        }
      ]
    }
  ]
}